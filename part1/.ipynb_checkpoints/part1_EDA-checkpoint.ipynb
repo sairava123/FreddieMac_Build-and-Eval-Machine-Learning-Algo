{
 "cells": [
  {
   "cell_type": "code",
   "execution_count": 1,
   "metadata": {
    "collapsed": false
   },
   "outputs": [
    {
     "data": {
      "text/html": [
       "<div>\n",
       "<table border=\"1\" class=\"dataframe\">\n",
       "  <thead>\n",
       "    <tr style=\"text-align: right;\">\n",
       "      <th></th>\n",
       "      <th>credit_score</th>\n",
       "      <th>first_payment_date</th>\n",
       "      <th>fthb_flag</th>\n",
       "      <th>matr_date</th>\n",
       "      <th>msa</th>\n",
       "      <th>mortage_insurance_pct</th>\n",
       "      <th>no_of_units</th>\n",
       "      <th>occupancy_status</th>\n",
       "      <th>cltv</th>\n",
       "      <th>dti_ratio</th>\n",
       "      <th>...</th>\n",
       "      <th>property_state</th>\n",
       "      <th>prop_type</th>\n",
       "      <th>zipcode</th>\n",
       "      <th>loan_seq_number</th>\n",
       "      <th>loan_purpose</th>\n",
       "      <th>original_loan_term</th>\n",
       "      <th>number_of_borrowers</th>\n",
       "      <th>sellers_name</th>\n",
       "      <th>servicer_name</th>\n",
       "      <th>super_conforming_flag</th>\n",
       "    </tr>\n",
       "  </thead>\n",
       "  <tbody>\n",
       "    <tr>\n",
       "      <th>0</th>\n",
       "      <td>591.0</td>\n",
       "      <td>200504</td>\n",
       "      <td>N</td>\n",
       "      <td>203503</td>\n",
       "      <td>39100.0</td>\n",
       "      <td>0.0</td>\n",
       "      <td>1</td>\n",
       "      <td>O</td>\n",
       "      <td>48.0</td>\n",
       "      <td>34.0</td>\n",
       "      <td>...</td>\n",
       "      <td>NY</td>\n",
       "      <td>SF</td>\n",
       "      <td>12500.0</td>\n",
       "      <td>F105Q1000087</td>\n",
       "      <td>C</td>\n",
       "      <td>360</td>\n",
       "      <td>2.0</td>\n",
       "      <td>Other sellers</td>\n",
       "      <td>Other servicers</td>\n",
       "      <td>N</td>\n",
       "    </tr>\n",
       "    <tr>\n",
       "      <th>1</th>\n",
       "      <td>792.0</td>\n",
       "      <td>200503</td>\n",
       "      <td>N</td>\n",
       "      <td>203502</td>\n",
       "      <td>39100.0</td>\n",
       "      <td>0.0</td>\n",
       "      <td>1</td>\n",
       "      <td>O</td>\n",
       "      <td>90.0</td>\n",
       "      <td>33.0</td>\n",
       "      <td>...</td>\n",
       "      <td>NY</td>\n",
       "      <td>SF</td>\n",
       "      <td>12500.0</td>\n",
       "      <td>F105Q1000130</td>\n",
       "      <td>P</td>\n",
       "      <td>360</td>\n",
       "      <td>2.0</td>\n",
       "      <td>Other sellers</td>\n",
       "      <td>Other servicers</td>\n",
       "      <td>N</td>\n",
       "    </tr>\n",
       "  </tbody>\n",
       "</table>\n",
       "<p>2 rows × 26 columns</p>\n",
       "</div>"
      ],
      "text/plain": [
       "   credit_score  first_payment_date fthb_flag  matr_date      msa  \\\n",
       "0         591.0              200504         N     203503  39100.0   \n",
       "1         792.0              200503         N     203502  39100.0   \n",
       "\n",
       "   mortage_insurance_pct  no_of_units occupancy_status  cltv  dti_ratio  \\\n",
       "0                    0.0            1                O  48.0       34.0   \n",
       "1                    0.0            1                O  90.0       33.0   \n",
       "\n",
       "           ...           property_state  prop_type  zipcode loan_seq_number  \\\n",
       "0          ...                       NY         SF  12500.0    F105Q1000087   \n",
       "1          ...                       NY         SF  12500.0    F105Q1000130   \n",
       "\n",
       "  loan_purpose original_loan_term number_of_borrowers   sellers_name  \\\n",
       "0            C                360                 2.0  Other sellers   \n",
       "1            P                360                 2.0  Other sellers   \n",
       "\n",
       "     servicer_name super_conforming_flag  \n",
       "0  Other servicers                     N  \n",
       "1  Other servicers                     N  \n",
       "\n",
       "[2 rows x 26 columns]"
      ]
     },
     "execution_count": 1,
     "metadata": {},
     "output_type": "execute_result"
    }
   ],
   "source": [
    "import pandas as pd\n",
    "import os, matplotlib\n",
    "import matplotlib.pyplot as plt\n",
    "import numpy as np\n",
    "import seaborn as sns\n",
    "%matplotlib inline \n",
    "\n",
    "sample_clean_file = os.getcwd() + \"/sample_orig_combined.csv\"\n",
    "sample_df = pd.read_csv(sample_clean_file,low_memory=False)\n",
    "sample_df.head(2)"
   ]
  },
  {
   "cell_type": "code",
   "execution_count": 2,
   "metadata": {
    "collapsed": false
   },
   "outputs": [
    {
     "data": {
      "text/html": [
       "<div>\n",
       "<table border=\"1\" class=\"dataframe\">\n",
       "  <thead>\n",
       "    <tr style=\"text-align: right;\">\n",
       "      <th></th>\n",
       "      <th>loan_seq_number</th>\n",
       "      <th>month</th>\n",
       "      <th>max_current_actual_upb</th>\n",
       "      <th>min_current_actual_upb</th>\n",
       "      <th>delq_status</th>\n",
       "      <th>loan_age</th>\n",
       "      <th>rem_months</th>\n",
       "      <th>repurchase_flag</th>\n",
       "      <th>modification_flag</th>\n",
       "      <th>zero_balance_code</th>\n",
       "      <th>...</th>\n",
       "      <th>mi_recoveries</th>\n",
       "      <th>net_sale_proceeds</th>\n",
       "      <th>non_mi_recoveries</th>\n",
       "      <th>expenses</th>\n",
       "      <th>legal_costs</th>\n",
       "      <th>maint_pres_costs</th>\n",
       "      <th>taxes_ins</th>\n",
       "      <th>misc_expenses</th>\n",
       "      <th>actual_loss_calc</th>\n",
       "      <th>modification_cost</th>\n",
       "    </tr>\n",
       "  </thead>\n",
       "  <tbody>\n",
       "    <tr>\n",
       "      <th>0</th>\n",
       "      <td>F105Q1000064</td>\n",
       "      <td>200912</td>\n",
       "      <td>62000.0</td>\n",
       "      <td>0.0</td>\n",
       "      <td>0</td>\n",
       "      <td>57</td>\n",
       "      <td>303</td>\n",
       "      <td>NaN</td>\n",
       "      <td>Not Modified</td>\n",
       "      <td>1</td>\n",
       "      <td>...</td>\n",
       "      <td>0.0</td>\n",
       "      <td>U</td>\n",
       "      <td>0.0</td>\n",
       "      <td>0.0</td>\n",
       "      <td>0.0</td>\n",
       "      <td>0.0</td>\n",
       "      <td>0.0</td>\n",
       "      <td>0.0</td>\n",
       "      <td>0</td>\n",
       "      <td>0.0</td>\n",
       "    </tr>\n",
       "    <tr>\n",
       "      <th>1</th>\n",
       "      <td>F105Q1000076</td>\n",
       "      <td>201011</td>\n",
       "      <td>197000.0</td>\n",
       "      <td>0.0</td>\n",
       "      <td>0</td>\n",
       "      <td>69</td>\n",
       "      <td>291</td>\n",
       "      <td>NaN</td>\n",
       "      <td>Not Modified</td>\n",
       "      <td>1</td>\n",
       "      <td>...</td>\n",
       "      <td>0.0</td>\n",
       "      <td>U</td>\n",
       "      <td>0.0</td>\n",
       "      <td>0.0</td>\n",
       "      <td>0.0</td>\n",
       "      <td>0.0</td>\n",
       "      <td>0.0</td>\n",
       "      <td>0.0</td>\n",
       "      <td>0</td>\n",
       "      <td>0.0</td>\n",
       "    </tr>\n",
       "  </tbody>\n",
       "</table>\n",
       "<p>2 rows × 24 columns</p>\n",
       "</div>"
      ],
      "text/plain": [
       "  loan_seq_number   month  max_current_actual_upb  min_current_actual_upb  \\\n",
       "0    F105Q1000064  200912                 62000.0                     0.0   \n",
       "1    F105Q1000076  201011                197000.0                     0.0   \n",
       "\n",
       "   delq_status  loan_age  rem_months repurchase_flag modification_flag  \\\n",
       "0            0        57         303             NaN      Not Modified   \n",
       "1            0        69         291             NaN      Not Modified   \n",
       "\n",
       "   zero_balance_code        ...          mi_recoveries  net_sale_proceeds  \\\n",
       "0                  1        ...                    0.0                  U   \n",
       "1                  1        ...                    0.0                  U   \n",
       "\n",
       "   non_mi_recoveries  expenses  legal_costs maint_pres_costs  taxes_ins  \\\n",
       "0                0.0       0.0          0.0              0.0        0.0   \n",
       "1                0.0       0.0          0.0              0.0        0.0   \n",
       "\n",
       "   misc_expenses  actual_loss_calc  modification_cost  \n",
       "0            0.0                 0                0.0  \n",
       "1            0.0                 0                0.0  \n",
       "\n",
       "[2 rows x 24 columns]"
      ]
     },
     "execution_count": 2,
     "metadata": {},
     "output_type": "execute_result"
    }
   ],
   "source": [
    "performance_file = os.getcwd() + \"/Summarized_performance_data.csv\" \n",
    "perf_df = pd.read_csv(performance_file, low_memory=False)\n",
    "perf_df.head(2)"
   ]
  },
  {
   "cell_type": "code",
   "execution_count": 3,
   "metadata": {
    "collapsed": false
   },
   "outputs": [],
   "source": [
    "perf_df['Year'] = ['20'+ x for x in (perf_df['loan_seq_number'].apply(lambda x: x[2:4]))]"
   ]
  },
  {
   "cell_type": "code",
   "execution_count": 4,
   "metadata": {
    "collapsed": false
   },
   "outputs": [
    {
     "data": {
      "text/plain": [
       "array(['2005', '2006', '2007', '2008', '2009', '2010', '2011', '2012',\n",
       "       '2013', '2014', '2015', '2016'], dtype=object)"
      ]
     },
     "execution_count": 4,
     "metadata": {},
     "output_type": "execute_result"
    }
   ],
   "source": [
    "perf_df['Year'].unique()"
   ]
  },
  {
   "cell_type": "code",
   "execution_count": 5,
   "metadata": {
    "collapsed": true
   },
   "outputs": [],
   "source": [
    "merged_df = pd.merge(sample_df,perf_df,on=\"loan_seq_number\",how=\"right\")"
   ]
  },
  {
   "cell_type": "code",
   "execution_count": 6,
   "metadata": {
    "collapsed": false
   },
   "outputs": [
    {
     "data": {
      "text/html": [
       "<div>\n",
       "<table border=\"1\" class=\"dataframe\">\n",
       "  <thead>\n",
       "    <tr style=\"text-align: right;\">\n",
       "      <th></th>\n",
       "      <th>credit_score</th>\n",
       "      <th>first_payment_date</th>\n",
       "      <th>fthb_flag</th>\n",
       "      <th>matr_date</th>\n",
       "      <th>msa</th>\n",
       "      <th>mortage_insurance_pct</th>\n",
       "      <th>no_of_units</th>\n",
       "      <th>occupancy_status</th>\n",
       "      <th>cltv</th>\n",
       "      <th>dti_ratio</th>\n",
       "      <th>...</th>\n",
       "      <th>net_sale_proceeds</th>\n",
       "      <th>non_mi_recoveries</th>\n",
       "      <th>expenses</th>\n",
       "      <th>legal_costs</th>\n",
       "      <th>maint_pres_costs</th>\n",
       "      <th>taxes_ins</th>\n",
       "      <th>misc_expenses</th>\n",
       "      <th>actual_loss_calc</th>\n",
       "      <th>modification_cost</th>\n",
       "      <th>Year</th>\n",
       "    </tr>\n",
       "  </thead>\n",
       "  <tbody>\n",
       "    <tr>\n",
       "      <th>0</th>\n",
       "      <td>591.0</td>\n",
       "      <td>200504.0</td>\n",
       "      <td>N</td>\n",
       "      <td>203503.0</td>\n",
       "      <td>39100.0</td>\n",
       "      <td>0.0</td>\n",
       "      <td>1.0</td>\n",
       "      <td>O</td>\n",
       "      <td>48.0</td>\n",
       "      <td>34.0</td>\n",
       "      <td>...</td>\n",
       "      <td>U</td>\n",
       "      <td>0.0</td>\n",
       "      <td>0.0</td>\n",
       "      <td>0.0</td>\n",
       "      <td>0.0</td>\n",
       "      <td>0.0</td>\n",
       "      <td>0.0</td>\n",
       "      <td>0</td>\n",
       "      <td>0.0</td>\n",
       "      <td>2005</td>\n",
       "    </tr>\n",
       "    <tr>\n",
       "      <th>1</th>\n",
       "      <td>792.0</td>\n",
       "      <td>200503.0</td>\n",
       "      <td>N</td>\n",
       "      <td>203502.0</td>\n",
       "      <td>39100.0</td>\n",
       "      <td>0.0</td>\n",
       "      <td>1.0</td>\n",
       "      <td>O</td>\n",
       "      <td>90.0</td>\n",
       "      <td>33.0</td>\n",
       "      <td>...</td>\n",
       "      <td>U</td>\n",
       "      <td>0.0</td>\n",
       "      <td>0.0</td>\n",
       "      <td>0.0</td>\n",
       "      <td>0.0</td>\n",
       "      <td>0.0</td>\n",
       "      <td>0.0</td>\n",
       "      <td>0</td>\n",
       "      <td>0.0</td>\n",
       "      <td>2005</td>\n",
       "    </tr>\n",
       "  </tbody>\n",
       "</table>\n",
       "<p>2 rows × 50 columns</p>\n",
       "</div>"
      ],
      "text/plain": [
       "   credit_score  first_payment_date fthb_flag  matr_date      msa  \\\n",
       "0         591.0            200504.0         N   203503.0  39100.0   \n",
       "1         792.0            200503.0         N   203502.0  39100.0   \n",
       "\n",
       "   mortage_insurance_pct  no_of_units occupancy_status  cltv  dti_ratio  ...   \\\n",
       "0                    0.0          1.0                O  48.0       34.0  ...    \n",
       "1                    0.0          1.0                O  90.0       33.0  ...    \n",
       "\n",
       "   net_sale_proceeds  non_mi_recoveries  expenses legal_costs  \\\n",
       "0                  U                0.0       0.0         0.0   \n",
       "1                  U                0.0       0.0         0.0   \n",
       "\n",
       "  maint_pres_costs taxes_ins misc_expenses actual_loss_calc  \\\n",
       "0              0.0       0.0           0.0                0   \n",
       "1              0.0       0.0           0.0                0   \n",
       "\n",
       "   modification_cost  Year  \n",
       "0                0.0  2005  \n",
       "1                0.0  2005  \n",
       "\n",
       "[2 rows x 50 columns]"
      ]
     },
     "execution_count": 6,
     "metadata": {},
     "output_type": "execute_result"
    }
   ],
   "source": [
    "merged_df.head(2)"
   ]
  },
  {
   "cell_type": "code",
   "execution_count": 7,
   "metadata": {
    "collapsed": false
   },
   "outputs": [
    {
     "data": {
      "text/plain": [
       "(574957, 50)"
      ]
     },
     "execution_count": 7,
     "metadata": {},
     "output_type": "execute_result"
    }
   ],
   "source": [
    "merged_df.shape"
   ]
  },
  {
   "cell_type": "code",
   "execution_count": 9,
   "metadata": {
    "collapsed": false
   },
   "outputs": [
    {
     "data": {
      "text/html": [
       "<div>\n",
       "<table border=\"1\" class=\"dataframe\">\n",
       "  <thead>\n",
       "    <tr style=\"text-align: right;\">\n",
       "      <th></th>\n",
       "      <th>credit_score</th>\n",
       "      <th>mortage_insurance_pct</th>\n",
       "      <th>no_of_units</th>\n",
       "      <th>cltv</th>\n",
       "      <th>dti_ratio</th>\n",
       "      <th>original_upb</th>\n",
       "      <th>original_ltv</th>\n",
       "      <th>original_int_rt</th>\n",
       "      <th>original_loan_term</th>\n",
       "      <th>number_of_borrowers</th>\n",
       "      <th>...</th>\n",
       "      <th>current_def_upb</th>\n",
       "      <th>mi_recoveries</th>\n",
       "      <th>non_mi_recoveries</th>\n",
       "      <th>expenses</th>\n",
       "      <th>legal_costs</th>\n",
       "      <th>maint_pres_costs</th>\n",
       "      <th>taxes_ins</th>\n",
       "      <th>misc_expenses</th>\n",
       "      <th>actual_loss_calc</th>\n",
       "      <th>modification_cost</th>\n",
       "    </tr>\n",
       "    <tr>\n",
       "      <th>Year</th>\n",
       "      <th></th>\n",
       "      <th></th>\n",
       "      <th></th>\n",
       "      <th></th>\n",
       "      <th></th>\n",
       "      <th></th>\n",
       "      <th></th>\n",
       "      <th></th>\n",
       "      <th></th>\n",
       "      <th></th>\n",
       "      <th></th>\n",
       "      <th></th>\n",
       "      <th></th>\n",
       "      <th></th>\n",
       "      <th></th>\n",
       "      <th></th>\n",
       "      <th></th>\n",
       "      <th></th>\n",
       "      <th></th>\n",
       "      <th></th>\n",
       "      <th></th>\n",
       "    </tr>\n",
       "  </thead>\n",
       "  <tbody>\n",
       "    <tr>\n",
       "      <th>2005</th>\n",
       "      <td>724.727288</td>\n",
       "      <td>3.027869</td>\n",
       "      <td>1.022480</td>\n",
       "      <td>70.694997</td>\n",
       "      <td>34.262401</td>\n",
       "      <td>177046.460124</td>\n",
       "      <td>68.955302</td>\n",
       "      <td>5.796721</td>\n",
       "      <td>324.040912</td>\n",
       "      <td>1.574143</td>\n",
       "      <td>...</td>\n",
       "      <td>280.138023</td>\n",
       "      <td>464.618472</td>\n",
       "      <td>-0.084262</td>\n",
       "      <td>-843.454029</td>\n",
       "      <td>-181.551291</td>\n",
       "      <td>0.0</td>\n",
       "      <td>-351.148563</td>\n",
       "      <td>2.520510</td>\n",
       "      <td>4.808156</td>\n",
       "      <td>623.028921</td>\n",
       "    </tr>\n",
       "    <tr>\n",
       "      <th>2006</th>\n",
       "      <td>723.229643</td>\n",
       "      <td>3.226935</td>\n",
       "      <td>1.024275</td>\n",
       "      <td>72.977019</td>\n",
       "      <td>35.954134</td>\n",
       "      <td>186530.265996</td>\n",
       "      <td>70.394848</td>\n",
       "      <td>6.397613</td>\n",
       "      <td>337.934244</td>\n",
       "      <td>1.545243</td>\n",
       "      <td>...</td>\n",
       "      <td>630.526992</td>\n",
       "      <td>744.321519</td>\n",
       "      <td>-0.238434</td>\n",
       "      <td>-1255.048423</td>\n",
       "      <td>-270.701882</td>\n",
       "      <td>0.0</td>\n",
       "      <td>-536.433386</td>\n",
       "      <td>5.080985</td>\n",
       "      <td>4.846371</td>\n",
       "      <td>1255.534917</td>\n",
       "    </tr>\n",
       "  </tbody>\n",
       "</table>\n",
       "<p>2 rows × 26 columns</p>\n",
       "</div>"
      ],
      "text/plain": [
       "      credit_score  mortage_insurance_pct  no_of_units       cltv  dti_ratio  \\\n",
       "Year                                                                           \n",
       "2005    724.727288               3.027869     1.022480  70.694997  34.262401   \n",
       "2006    723.229643               3.226935     1.024275  72.977019  35.954134   \n",
       "\n",
       "       original_upb  original_ltv  original_int_rt  original_loan_term  \\\n",
       "Year                                                                     \n",
       "2005  177046.460124     68.955302         5.796721          324.040912   \n",
       "2006  186530.265996     70.394848         6.397613          337.934244   \n",
       "\n",
       "      number_of_borrowers        ...          current_def_upb  mi_recoveries  \\\n",
       "Year                             ...                                           \n",
       "2005             1.574143        ...               280.138023     464.618472   \n",
       "2006             1.545243        ...               630.526992     744.321519   \n",
       "\n",
       "      non_mi_recoveries     expenses  legal_costs  maint_pres_costs  \\\n",
       "Year                                                                  \n",
       "2005          -0.084262  -843.454029  -181.551291               0.0   \n",
       "2006          -0.238434 -1255.048423  -270.701882               0.0   \n",
       "\n",
       "       taxes_ins  misc_expenses  actual_loss_calc  modification_cost  \n",
       "Year                                                                  \n",
       "2005 -351.148563       2.520510          4.808156         623.028921  \n",
       "2006 -536.433386       5.080985          4.846371        1255.534917  \n",
       "\n",
       "[2 rows x 26 columns]"
      ]
     },
     "execution_count": 9,
     "metadata": {},
     "output_type": "execute_result"
    }
   ],
   "source": [
    "yearwise_df = pd.DataFrame()\n",
    "grouped = merged_df.groupby('Year')\n",
    "yearwise_df = yearwise_df.append(grouped.aggregate(np.mean))\n",
    "yearwise_df.drop(['first_payment_date', 'matr_date', 'msa','zipcode', 'ddlpi','month', 'zero_bal_date', 'rem_months'], axis=1, inplace=True)\n",
    "#yearwise_df = yearwise_df.transpose()\n",
    "yearwise_df.head(2)"
   ]
  },
  {
   "cell_type": "markdown",
   "metadata": {},
   "source": [
    "###### Variables trends over the time"
   ]
  },
  {
   "cell_type": "code",
   "execution_count": 12,
   "metadata": {
    "collapsed": false
   },
   "outputs": [],
   "source": [
    "def upb_trends_over_time():\n",
    "    original_upb = yearwise_df['original_upb']\n",
    "    max_current_actual_upb = yearwise_df['max_current_actual_upb']\n",
    "    min_current_actual_upb = yearwise_df['min_current_actual_upb']\n",
    "    year = perf_df['Year'].drop_duplicates()\n",
    "    #year_df = pd.DataFrame(perf_df['Year'].drop_duplicates()).reset_index()\n",
    "    #year_df.columns = ['Count', 'Year']\n",
    "    #year_df = year_df.ix[(year_df['Year'] == '2007') | (year_df['Year'] == '2008') | (year_df['Year'] == '2009')]\n",
    "    plt.figure(num=None, figsize=(14, 12),dpi=50, facecolor='c', edgecolor='b')\n",
    "    ax1=plt.subplot(211)\n",
    "    plt.plot(year,original_upb,'y--',year,max_current_actual_upb,'b--',year,min_current_actual_upb,'r--')\n",
    "    plt.xlabel('YEAR')\n",
    "    plt.ylabel('UPB')\n",
    "    plt.legend(['Original UPB','Max UPB','Min UPB'])\n",
    "    plt.grid(True)\n",
    "    plt.title('UPB Trends Over Years')\n",
    "    \n",
    "upb_trends_over_time()"
   ]
  },
  {
   "cell_type": "markdown",
   "metadata": {},
   "source": [
    "###### Zero Balance Code Trends over Time"
   ]
  },
  {
   "cell_type": "code",
   "execution_count": 13,
   "metadata": {
    "collapsed": false
   },
   "outputs": [
    {
     "name": "stdout",
     "output_type": "stream",
     "text": [
      "Total records is 574957\n"
     ]
    }
   ],
   "source": [
    "total_records = merged_df.shape[0]\n",
    "print(\"Total records is {}\".format(total_records))"
   ]
  },
  {
   "cell_type": "code",
   "execution_count": 14,
   "metadata": {
    "collapsed": false
   },
   "outputs": [
    {
     "name": "stdout",
     "output_type": "stream",
     "text": [
      "Total number of default record is: 15042\n",
      "Total default ratio is 0.03\n"
     ]
    }
   ],
   "source": [
    "total_default_records = merged_df.ix[(merged_df['zero_balance_code'] == 3) | (merged_df['zero_balance_code'] == 6) |\n",
    "                              (merged_df['zero_balance_code'] == 9)]\n",
    "count = total_default_records.shape[0]\n",
    "print(\"Total number of default record is: {}\".format(count))\n",
    "default_ratio = str(round(count/total_records,2))\n",
    "print(\"Total default ratio is {}\".format(default_ratio))"
   ]
  },
  {
   "cell_type": "code",
   "execution_count": 15,
   "metadata": {
    "collapsed": false
   },
   "outputs": [
    {
     "name": "stdout",
     "output_type": "stream",
     "text": [
      "Total number of prepaid record is 314001\n",
      "Total prepaid ratio is 0.55\n"
     ]
    }
   ],
   "source": [
    "total_prepaid_records = merged_df.ix[merged_df['zero_balance_code'] == 1]\n",
    "count_prepaid = total_prepaid_records.shape[0]\n",
    "print(\"Total number of prepaid record is {}\".format(count_prepaid))\n",
    "prepaid_ratio = str(round(count_prepaid/total_records,2))\n",
    "print(\"Total prepaid ratio is {}\".format(prepaid_ratio))"
   ]
  },
  {
   "cell_type": "code",
   "execution_count": 16,
   "metadata": {
    "collapsed": false
   },
   "outputs": [
    {
     "data": {
      "text/plain": [
       "Year\n",
       "2005    3131\n",
       "2006    4432\n",
       "2007    4014\n",
       "2008     826\n",
       "2009     193\n",
       "2010      90\n",
       "2011      36\n",
       "2012      75\n",
       "2013      41\n",
       "2014     172\n",
       "2015    1960\n",
       "2016      72\n",
       "Name: loan_seq_number, dtype: int64"
      ]
     },
     "execution_count": 16,
     "metadata": {},
     "output_type": "execute_result"
    }
   ],
   "source": [
    "total_default_records_by_year = total_default_records.groupby(perf_df['Year'])['loan_seq_number'].count()\n",
    "total_default_records_by_year"
   ]
  },
  {
   "cell_type": "code",
   "execution_count": 17,
   "metadata": {
    "collapsed": false
   },
   "outputs": [
    {
     "data": {
      "text/plain": [
       "Year\n",
       "2005    49999\n",
       "2006    49997\n",
       "2007    49996\n",
       "2008    49994\n",
       "2009    49999\n",
       "2010    49998\n",
       "2011    49997\n",
       "2012    49997\n",
       "2013    50000\n",
       "2014    50000\n",
       "2015    49999\n",
       "2016    24981\n",
       "Name: loan_seq_number, dtype: int64"
      ]
     },
     "execution_count": 17,
     "metadata": {},
     "output_type": "execute_result"
    }
   ],
   "source": [
    "total_records_by_year = merged_df.groupby(perf_df['Year'])['loan_seq_number'].count()\n",
    "total_records_by_year"
   ]
  },
  {
   "cell_type": "code",
   "execution_count": 18,
   "metadata": {
    "collapsed": true
   },
   "outputs": [],
   "source": [
    "total_default_records_by_year.name = \"Default Records Number\"\n",
    "total_records_by_year.name = \"Total Records\""
   ]
  },
  {
   "cell_type": "code",
   "execution_count": 19,
   "metadata": {
    "collapsed": false
   },
   "outputs": [
    {
     "data": {
      "text/plain": [
       "<matplotlib.axes._subplots.AxesSubplot at 0x20780018128>"
      ]
     },
     "execution_count": 19,
     "metadata": {},
     "output_type": "execute_result"
    }
   ],
   "source": [
    "default_rate_by_year = pd.concat([total_default_records_by_year,total_records_by_year],axis = 1, join='outer')\n",
    "default_rate_by_year['Default Rate'] = default_rate_by_year['Default Records Number']/default_rate_by_year['Total Records']\n",
    "default_rate_by_year.plot(title =\"Default Rate Trends over Years\",y='Default Rate', color='k', kind='bar')\n"
   ]
  },
  {
   "cell_type": "code",
   "execution_count": 20,
   "metadata": {
    "collapsed": false
   },
   "outputs": [
    {
     "data": {
      "text/plain": [
       "Year\n",
       "2005    40576\n",
       "2006    39853\n",
       "2007    40065\n",
       "2008    40911\n",
       "2009    35118\n",
       "2010    29129\n",
       "2011    14428\n",
       "2012    16237\n",
       "2013    10599\n",
       "2014     6390\n",
       "2015    35944\n",
       "2016     4751\n",
       "Name: loan_seq_number, dtype: int64"
      ]
     },
     "execution_count": 20,
     "metadata": {},
     "output_type": "execute_result"
    }
   ],
   "source": [
    "total_prepaid_records_by_year = total_prepaid_records.groupby(perf_df['Year'])['loan_seq_number'].count()\n",
    "total_prepaid_records_by_year"
   ]
  },
  {
   "cell_type": "code",
   "execution_count": 21,
   "metadata": {
    "collapsed": true
   },
   "outputs": [],
   "source": [
    "total_prepaid_records_by_year.name = \"Prepaid Records Number\"\n",
    "total_records_by_year.name = \"Total Records\""
   ]
  },
  {
   "cell_type": "code",
   "execution_count": 22,
   "metadata": {
    "collapsed": false
   },
   "outputs": [
    {
     "data": {
      "text/plain": [
       "<matplotlib.axes._subplots.AxesSubplot at 0x20784c382e8>"
      ]
     },
     "execution_count": 22,
     "metadata": {},
     "output_type": "execute_result"
    }
   ],
   "source": [
    "prepaid_rate_by_year = pd.concat([total_prepaid_records_by_year,total_records_by_year],axis = 1, join='outer')\n",
    "prepaid_rate_by_year['Prepaid Rate'] = prepaid_rate_by_year['Prepaid Records Number']/prepaid_rate_by_year['Total Records']\n",
    "prepaid_rate_by_year.plot(title =\"Prepaid Rate Trends over Years\",y='Prepaid Rate', color='b', kind='bar')\n"
   ]
  },
  {
   "cell_type": "markdown",
   "metadata": {},
   "source": [
    "###### Statewise Trends"
   ]
  },
  {
   "cell_type": "code",
   "execution_count": 23,
   "metadata": {
    "collapsed": false
   },
   "outputs": [],
   "source": [
    "state_loan = pd.DataFrame()\n",
    "state_loan = merged_df.groupby(['property_state', perf_df['Year']]).size()\n",
    "loan_count = state_loan.unstack()\n",
    "loan_count[[\"2007\",\"2008\" ,\"2009\"]].plot(figsize=(20,10))\n",
    "plt.title('Yearwise State Loan Count')\n",
    "plt.ylabel('Loan Count');"
   ]
  },
  {
   "cell_type": "markdown",
   "metadata": {},
   "source": [
    "###### Zero Balance Code Trends"
   ]
  },
  {
   "cell_type": "code",
   "execution_count": 24,
   "metadata": {
    "collapsed": true
   },
   "outputs": [],
   "source": [
    "def get_zero_bal_code(df, x):\n",
    "    if (df.ix[x,'zero_balance_code'] == 0) or (df.ix[x,'zero_balance_code'] == 1):\n",
    "        return 'Prepaid'\n",
    "    elif (df.ix[x,'zero_balance_code'] == 3):\n",
    "        return \"Foreclosure Alternative Group\"\n",
    "    elif (df.ix[x,'zero_balance_code'] == 6):\n",
    "        return \"Repurchse\"\n",
    "    elif (df.ix[x,'zero_balance_code'] == 9):\n",
    "        return \"REO Disposition\"\n",
    "    else:\n",
    "        return 'NA'"
   ]
  },
  {
   "cell_type": "code",
   "execution_count": 25,
   "metadata": {
    "collapsed": false
   },
   "outputs": [],
   "source": [
    "loan_purpose_status = merged_df.groupby([lambda x: get_zero_bal_code(merged_df, x), 'loan_purpose'])['loan_seq_number'].count()\n",
    "loan_purpose_status = loan_purpose_status.unstack(level=0)\n",
    "plt.figure(figsize=(20, 12))\n",
    "plt.title('Loan Purpose vs Zero Balance Code')\n",
    "ax =sns.heatmap(loan_purpose_status.T, mask= loan_purpose_status.T.isnull(),annot=True, fmt='d',cmap='viridis');\n"
   ]
  },
  {
   "cell_type": "markdown",
   "metadata": {},
   "source": [
    "###### Debt-to-income trends over years"
   ]
  },
  {
   "cell_type": "code",
   "execution_count": 26,
   "metadata": {
    "collapsed": false
   },
   "outputs": [
    {
     "data": {
      "text/plain": [
       "<matplotlib.axes._subplots.AxesSubplot at 0x207894ff6d8>"
      ]
     },
     "execution_count": 26,
     "metadata": {},
     "output_type": "execute_result"
    }
   ],
   "source": [
    "dti_trends = merged_df.groupby([lambda x: get_zero_bal_code(merged_df, x),perf_df['Year']])['dti_ratio'].mean()\n",
    "dti_trends.unstack().plot(kind='bar')"
   ]
  },
  {
   "cell_type": "markdown",
   "metadata": {},
   "source": [
    "###### Sellers and Servicer Ranking Analysis"
   ]
  },
  {
   "cell_type": "code",
   "execution_count": 27,
   "metadata": {
    "collapsed": true
   },
   "outputs": [],
   "source": [
    "def plot_ranking_graph(df):\n",
    "    plt.figure() \n",
    "    df.head(n=30).plot(figsize=(18,4), kind='bar')\n",
    "    plt.axhline(merged_df.original_upb.mean(), color='k')"
   ]
  },
  {
   "cell_type": "code",
   "execution_count": 28,
   "metadata": {
    "collapsed": false
   },
   "outputs": [],
   "source": [
    "#sellers ranking\n",
    "sellers_rank = pd.DataFrame()\n",
    "sellers_rank['rank'] = merged_df['loan_seq_number'].groupby(merged_df['sellers_name']).count().sort_values(ascending = False)\n",
    "plot_ranking_graph(sellers_rank)\n",
    "\n",
    "#servicer ranking\n",
    "servicer_rank = pd.DataFrame()\n",
    "servicer_rank['rank'] = merged_df['loan_seq_number'].groupby(merged_df['servicer_name']).count().sort_values(ascending = False)\n",
    "plot_ranking_graph(servicer_rank)"
   ]
  },
  {
   "cell_type": "markdown",
   "metadata": {},
   "source": [
    "###### Credit Score Analysis"
   ]
  },
  {
   "cell_type": "code",
   "execution_count": 29,
   "metadata": {
    "collapsed": false
   },
   "outputs": [
    {
     "data": {
      "text/plain": [
       "<matplotlib.axes._subplots.AxesSubplot at 0x2078be220f0>"
      ]
     },
     "execution_count": 29,
     "metadata": {},
     "output_type": "execute_result"
    }
   ],
   "source": [
    "merged_df['credit_score'].hist(color='y')"
   ]
  },
  {
   "cell_type": "markdown",
   "metadata": {},
   "source": [
    "###### Interest rate trends over time"
   ]
  },
  {
   "cell_type": "code",
   "execution_count": 30,
   "metadata": {
    "collapsed": false
   },
   "outputs": [
    {
     "data": {
      "text/plain": [
       "<matplotlib.axes._subplots.AxesSubplot at 0x2078be220f0>"
      ]
     },
     "execution_count": 30,
     "metadata": {},
     "output_type": "execute_result"
    }
   ],
   "source": [
    "rate_by_year = merged_df.groupby(perf_df['Year'])['original_int_rt'].mean()\n",
    "rate_by_year.plot(title=\"Original Interest Rate by Year\", color='g')"
   ]
  },
  {
   "cell_type": "code",
   "execution_count": 31,
   "metadata": {
    "collapsed": false
   },
   "outputs": [
    {
     "data": {
      "text/plain": [
       "<matplotlib.axes._subplots.AxesSubplot at 0x2078be220f0>"
      ]
     },
     "execution_count": 31,
     "metadata": {},
     "output_type": "execute_result"
    }
   ],
   "source": [
    "total_applications_by_year = merged_df.groupby(perf_df['Year'])['loan_seq_number'].count()\n",
    "total_applications_by_year.plot(kind='bar', color='g')"
   ]
  }
 ],
 "metadata": {
  "anaconda-cloud": {},
  "kernelspec": {
   "display_name": "Python 3",
   "language": "python",
   "name": "python3"
  },
  "language_info": {
   "codemirror_mode": {
    "name": "ipython",
    "version": 3
   },
   "file_extension": ".py",
   "mimetype": "text/x-python",
   "name": "python",
   "nbconvert_exporter": "python",
   "pygments_lexer": "ipython3",
   "version": "3.6.0"
  }
 },
 "nbformat": 4,
 "nbformat_minor": 1
}
